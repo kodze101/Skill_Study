{
 "cells": [
  {
   "cell_type": "code",
   "execution_count": 4,
   "metadata": {},
   "outputs": [
    {
     "name": "stdout",
     "output_type": "stream",
     "text": [
      "6\n"
     ]
    }
   ],
   "source": [
    "def game_core_v2(number):\n",
    "    count = 1\n",
    "    predict = 50\n",
    "    z=25\n",
    "    while number !=int(round(predict)):\n",
    "        count+=1\n",
    "        if number > predict: \n",
    "            predict += z\n",
    "        elif number < predict: \n",
    "            predict -= z\n",
    "        z/=2 \n",
    "    return(count)  \n",
    "print(game_core_v2(14))"
   ]
  },
  {
   "cell_type": "code",
   "execution_count": null,
   "metadata": {},
   "outputs": [],
   "source": []
  }
 ],
 "metadata": {
  "kernelspec": {
   "display_name": "Python 3",
   "language": "python",
   "name": "python3"
  },
  "language_info": {
   "codemirror_mode": {
    "name": "ipython",
    "version": 3
   },
   "file_extension": ".py",
   "mimetype": "text/x-python",
   "name": "python",
   "nbconvert_exporter": "python",
   "pygments_lexer": "ipython3",
   "version": "3.8.3"
  }
 },
 "nbformat": 4,
 "nbformat_minor": 4
}
