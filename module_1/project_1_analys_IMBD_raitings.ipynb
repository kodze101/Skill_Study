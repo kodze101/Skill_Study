{
 "cells": [
  {
   "cell_type": "code",
   "execution_count": 4,
   "metadata": {
    "_cell_guid": "b1076dfc-b9ad-4769-8c92-a6c4dae69d19",
    "_uuid": "8f2839f25d086af736a60e9eeb907d3b93b6e0e5",
    "colab": {},
    "colab_type": "code",
    "id": "U2D2gTdJVp90"
   },
   "outputs": [],
   "source": [
    "import numpy as np\n",
    "import pandas as pd\n",
    "import seaborn as sns\n",
    "import matplotlib.pyplot as plt\n",
    "from collections import Counter"
   ]
  },
  {
   "cell_type": "code",
   "execution_count": 17,
   "metadata": {
    "_cell_guid": "79c7e3d0-c299-4dcb-8224-4455121ee9b0",
    "_uuid": "d629ff2d2480ee46fbb7e2d37f6b5fab8052498a",
    "colab": {},
    "colab_type": "code",
    "id": "oyGfxL3eVp9-"
   },
   "outputs": [
    {
     "data": {
      "text/html": [
       "<div>\n",
       "<style scoped>\n",
       "    .dataframe tbody tr th:only-of-type {\n",
       "        vertical-align: middle;\n",
       "    }\n",
       "\n",
       "    .dataframe tbody tr th {\n",
       "        vertical-align: top;\n",
       "    }\n",
       "\n",
       "    .dataframe thead th {\n",
       "        text-align: right;\n",
       "    }\n",
       "</style>\n",
       "<table border=\"1\" class=\"dataframe\">\n",
       "  <thead>\n",
       "    <tr style=\"text-align: right;\">\n",
       "      <th></th>\n",
       "      <th>imdb_id</th>\n",
       "      <th>budget</th>\n",
       "      <th>revenue</th>\n",
       "      <th>original_title</th>\n",
       "      <th>cast</th>\n",
       "      <th>director</th>\n",
       "      <th>tagline</th>\n",
       "      <th>overview</th>\n",
       "      <th>runtime</th>\n",
       "      <th>genres</th>\n",
       "      <th>production_companies</th>\n",
       "      <th>release_date</th>\n",
       "      <th>vote_average</th>\n",
       "      <th>release_year</th>\n",
       "    </tr>\n",
       "  </thead>\n",
       "  <tbody>\n",
       "    <tr>\n",
       "      <th>0</th>\n",
       "      <td>tt0369610</td>\n",
       "      <td>150000000</td>\n",
       "      <td>1513528810</td>\n",
       "      <td>Jurassic World</td>\n",
       "      <td>Chris Pratt|Bryce Dallas Howard|Irrfan Khan|Vi...</td>\n",
       "      <td>Colin Trevorrow</td>\n",
       "      <td>The park is open.</td>\n",
       "      <td>Twenty-two years after the events of Jurassic ...</td>\n",
       "      <td>124</td>\n",
       "      <td>Action|Adventure|Science Fiction|Thriller</td>\n",
       "      <td>Universal Studios|Amblin Entertainment|Legenda...</td>\n",
       "      <td>6/9/2015</td>\n",
       "      <td>6.5</td>\n",
       "      <td>2015</td>\n",
       "    </tr>\n",
       "    <tr>\n",
       "      <th>1</th>\n",
       "      <td>tt1392190</td>\n",
       "      <td>150000000</td>\n",
       "      <td>378436354</td>\n",
       "      <td>Mad Max: Fury Road</td>\n",
       "      <td>Tom Hardy|Charlize Theron|Hugh Keays-Byrne|Nic...</td>\n",
       "      <td>George Miller</td>\n",
       "      <td>What a Lovely Day.</td>\n",
       "      <td>An apocalyptic story set in the furthest reach...</td>\n",
       "      <td>120</td>\n",
       "      <td>Action|Adventure|Science Fiction|Thriller</td>\n",
       "      <td>Village Roadshow Pictures|Kennedy Miller Produ...</td>\n",
       "      <td>5/13/2015</td>\n",
       "      <td>7.1</td>\n",
       "      <td>2015</td>\n",
       "    </tr>\n",
       "    <tr>\n",
       "      <th>2</th>\n",
       "      <td>tt2908446</td>\n",
       "      <td>110000000</td>\n",
       "      <td>295238201</td>\n",
       "      <td>Insurgent</td>\n",
       "      <td>Shailene Woodley|Theo James|Kate Winslet|Ansel...</td>\n",
       "      <td>Robert Schwentke</td>\n",
       "      <td>One Choice Can Destroy You</td>\n",
       "      <td>Beatrice Prior must confront her inner demons ...</td>\n",
       "      <td>119</td>\n",
       "      <td>Adventure|Science Fiction|Thriller</td>\n",
       "      <td>Summit Entertainment|Mandeville Films|Red Wago...</td>\n",
       "      <td>3/18/2015</td>\n",
       "      <td>6.3</td>\n",
       "      <td>2015</td>\n",
       "    </tr>\n",
       "    <tr>\n",
       "      <th>3</th>\n",
       "      <td>tt2488496</td>\n",
       "      <td>200000000</td>\n",
       "      <td>2068178225</td>\n",
       "      <td>Star Wars: The Force Awakens</td>\n",
       "      <td>Harrison Ford|Mark Hamill|Carrie Fisher|Adam D...</td>\n",
       "      <td>J.J. Abrams</td>\n",
       "      <td>Every generation has a story.</td>\n",
       "      <td>Thirty years after defeating the Galactic Empi...</td>\n",
       "      <td>136</td>\n",
       "      <td>Action|Adventure|Science Fiction|Fantasy</td>\n",
       "      <td>Lucasfilm|Truenorth Productions|Bad Robot</td>\n",
       "      <td>12/15/2015</td>\n",
       "      <td>7.5</td>\n",
       "      <td>2015</td>\n",
       "    </tr>\n",
       "    <tr>\n",
       "      <th>4</th>\n",
       "      <td>tt2820852</td>\n",
       "      <td>190000000</td>\n",
       "      <td>1506249360</td>\n",
       "      <td>Furious 7</td>\n",
       "      <td>Vin Diesel|Paul Walker|Jason Statham|Michelle ...</td>\n",
       "      <td>James Wan</td>\n",
       "      <td>Vengeance Hits Home</td>\n",
       "      <td>Deckard Shaw seeks revenge against Dominic Tor...</td>\n",
       "      <td>137</td>\n",
       "      <td>Action|Crime|Thriller</td>\n",
       "      <td>Universal Pictures|Original Film|Media Rights ...</td>\n",
       "      <td>4/1/2015</td>\n",
       "      <td>7.3</td>\n",
       "      <td>2015</td>\n",
       "    </tr>\n",
       "  </tbody>\n",
       "</table>\n",
       "</div>"
      ],
      "text/plain": [
       "     imdb_id     budget     revenue                original_title  \\\n",
       "0  tt0369610  150000000  1513528810                Jurassic World   \n",
       "1  tt1392190  150000000   378436354            Mad Max: Fury Road   \n",
       "2  tt2908446  110000000   295238201                     Insurgent   \n",
       "3  tt2488496  200000000  2068178225  Star Wars: The Force Awakens   \n",
       "4  tt2820852  190000000  1506249360                     Furious 7   \n",
       "\n",
       "                                                cast          director  \\\n",
       "0  Chris Pratt|Bryce Dallas Howard|Irrfan Khan|Vi...   Colin Trevorrow   \n",
       "1  Tom Hardy|Charlize Theron|Hugh Keays-Byrne|Nic...     George Miller   \n",
       "2  Shailene Woodley|Theo James|Kate Winslet|Ansel...  Robert Schwentke   \n",
       "3  Harrison Ford|Mark Hamill|Carrie Fisher|Adam D...       J.J. Abrams   \n",
       "4  Vin Diesel|Paul Walker|Jason Statham|Michelle ...         James Wan   \n",
       "\n",
       "                         tagline  \\\n",
       "0              The park is open.   \n",
       "1             What a Lovely Day.   \n",
       "2     One Choice Can Destroy You   \n",
       "3  Every generation has a story.   \n",
       "4            Vengeance Hits Home   \n",
       "\n",
       "                                            overview  runtime  \\\n",
       "0  Twenty-two years after the events of Jurassic ...      124   \n",
       "1  An apocalyptic story set in the furthest reach...      120   \n",
       "2  Beatrice Prior must confront her inner demons ...      119   \n",
       "3  Thirty years after defeating the Galactic Empi...      136   \n",
       "4  Deckard Shaw seeks revenge against Dominic Tor...      137   \n",
       "\n",
       "                                      genres  \\\n",
       "0  Action|Adventure|Science Fiction|Thriller   \n",
       "1  Action|Adventure|Science Fiction|Thriller   \n",
       "2         Adventure|Science Fiction|Thriller   \n",
       "3   Action|Adventure|Science Fiction|Fantasy   \n",
       "4                      Action|Crime|Thriller   \n",
       "\n",
       "                                production_companies release_date  \\\n",
       "0  Universal Studios|Amblin Entertainment|Legenda...     6/9/2015   \n",
       "1  Village Roadshow Pictures|Kennedy Miller Produ...    5/13/2015   \n",
       "2  Summit Entertainment|Mandeville Films|Red Wago...    3/18/2015   \n",
       "3          Lucasfilm|Truenorth Productions|Bad Robot   12/15/2015   \n",
       "4  Universal Pictures|Original Film|Media Rights ...     4/1/2015   \n",
       "\n",
       "   vote_average  release_year  \n",
       "0           6.5          2015  \n",
       "1           7.1          2015  \n",
       "2           6.3          2015  \n",
       "3           7.5          2015  \n",
       "4           7.3          2015  "
      ]
     },
     "execution_count": 17,
     "metadata": {},
     "output_type": "execute_result"
    }
   ],
   "source": [
    "data = pd.read_csv('movie_bd_v5.csv')\n",
    "data.head()"
   ]
  },
  {
   "cell_type": "code",
   "execution_count": 7,
   "metadata": {
    "colab": {},
    "colab_type": "code",
    "id": "CoYUnagMVp-C"
   },
   "outputs": [
    {
     "data": {
      "text/html": [
       "<div>\n",
       "<style scoped>\n",
       "    .dataframe tbody tr th:only-of-type {\n",
       "        vertical-align: middle;\n",
       "    }\n",
       "\n",
       "    .dataframe tbody tr th {\n",
       "        vertical-align: top;\n",
       "    }\n",
       "\n",
       "    .dataframe thead th {\n",
       "        text-align: right;\n",
       "    }\n",
       "</style>\n",
       "<table border=\"1\" class=\"dataframe\">\n",
       "  <thead>\n",
       "    <tr style=\"text-align: right;\">\n",
       "      <th></th>\n",
       "      <th>budget</th>\n",
       "      <th>revenue</th>\n",
       "      <th>runtime</th>\n",
       "      <th>vote_average</th>\n",
       "      <th>release_year</th>\n",
       "    </tr>\n",
       "  </thead>\n",
       "  <tbody>\n",
       "    <tr>\n",
       "      <th>count</th>\n",
       "      <td>1.889000e+03</td>\n",
       "      <td>1.889000e+03</td>\n",
       "      <td>1889.000000</td>\n",
       "      <td>1889.000000</td>\n",
       "      <td>1889.000000</td>\n",
       "    </tr>\n",
       "    <tr>\n",
       "      <th>mean</th>\n",
       "      <td>5.431083e+07</td>\n",
       "      <td>1.553653e+08</td>\n",
       "      <td>109.658549</td>\n",
       "      <td>6.140762</td>\n",
       "      <td>2007.860773</td>\n",
       "    </tr>\n",
       "    <tr>\n",
       "      <th>std</th>\n",
       "      <td>4.858721e+07</td>\n",
       "      <td>2.146698e+08</td>\n",
       "      <td>18.017041</td>\n",
       "      <td>0.764763</td>\n",
       "      <td>4.468841</td>\n",
       "    </tr>\n",
       "    <tr>\n",
       "      <th>min</th>\n",
       "      <td>5.000000e+06</td>\n",
       "      <td>2.033165e+06</td>\n",
       "      <td>63.000000</td>\n",
       "      <td>3.300000</td>\n",
       "      <td>2000.000000</td>\n",
       "    </tr>\n",
       "    <tr>\n",
       "      <th>25%</th>\n",
       "      <td>2.000000e+07</td>\n",
       "      <td>3.456058e+07</td>\n",
       "      <td>97.000000</td>\n",
       "      <td>5.600000</td>\n",
       "      <td>2004.000000</td>\n",
       "    </tr>\n",
       "    <tr>\n",
       "      <th>50%</th>\n",
       "      <td>3.800000e+07</td>\n",
       "      <td>8.361541e+07</td>\n",
       "      <td>107.000000</td>\n",
       "      <td>6.100000</td>\n",
       "      <td>2008.000000</td>\n",
       "    </tr>\n",
       "    <tr>\n",
       "      <th>75%</th>\n",
       "      <td>7.200000e+07</td>\n",
       "      <td>1.782626e+08</td>\n",
       "      <td>120.000000</td>\n",
       "      <td>6.600000</td>\n",
       "      <td>2012.000000</td>\n",
       "    </tr>\n",
       "    <tr>\n",
       "      <th>max</th>\n",
       "      <td>3.800000e+08</td>\n",
       "      <td>2.781506e+09</td>\n",
       "      <td>214.000000</td>\n",
       "      <td>8.100000</td>\n",
       "      <td>2015.000000</td>\n",
       "    </tr>\n",
       "  </tbody>\n",
       "</table>\n",
       "</div>"
      ],
      "text/plain": [
       "             budget       revenue      runtime  vote_average  release_year\n",
       "count  1.889000e+03  1.889000e+03  1889.000000   1889.000000   1889.000000\n",
       "mean   5.431083e+07  1.553653e+08   109.658549      6.140762   2007.860773\n",
       "std    4.858721e+07  2.146698e+08    18.017041      0.764763      4.468841\n",
       "min    5.000000e+06  2.033165e+06    63.000000      3.300000   2000.000000\n",
       "25%    2.000000e+07  3.456058e+07    97.000000      5.600000   2004.000000\n",
       "50%    3.800000e+07  8.361541e+07   107.000000      6.100000   2008.000000\n",
       "75%    7.200000e+07  1.782626e+08   120.000000      6.600000   2012.000000\n",
       "max    3.800000e+08  2.781506e+09   214.000000      8.100000   2015.000000"
      ]
     },
     "execution_count": 7,
     "metadata": {},
     "output_type": "execute_result"
    }
   ],
   "source": [
    "data.describe()"
   ]
  },
  {
   "cell_type": "markdown",
   "metadata": {
    "colab_type": "text",
    "id": "DTIt7ezGVp-G"
   },
   "source": [
    "# Предобработка"
   ]
  },
  {
   "cell_type": "code",
   "execution_count": 36,
   "metadata": {
    "colab": {},
    "colab_type": "code",
    "id": "jNb40DwKVp-H"
   },
   "outputs": [],
   "source": [
    "answers = {} # создадим словарь для ответов\n",
    "\n",
    "# тут другие ваши предобработки колонок например:\n",
    "\n",
    "#the time given in the dataset is in string format.\n",
    "#So we need to change this in datetime format\n",
    "# ..."
   ]
  },
  {
   "cell_type": "markdown",
   "metadata": {
    "colab_type": "text",
    "id": "YxZaH-nPVp-L"
   },
   "source": [
    "# 1. У какого фильма из списка самый большой бюджет?"
   ]
  },
  {
   "cell_type": "markdown",
   "metadata": {
    "colab_type": "text",
    "id": "Nd-G5gX6Vp-M"
   },
   "source": [
    "Использовать варианты ответов в коде решения запрещено.    \n",
    "Вы думаете и в жизни у вас будут варианты ответов?)"
   ]
  },
  {
   "cell_type": "code",
   "execution_count": 37,
   "metadata": {
    "colab": {},
    "colab_type": "code",
    "id": "uVnXAY5RVp-O"
   },
   "outputs": [],
   "source": [
    "# в словарь вставляем номер вопроса и ваш ответ на него\n",
    "# Пример: \n",
    "answers['1'] = '2. Spider-Man 3 (tt0413300)'\n",
    "# запишите свой вариант ответа\n",
    "answers['1'] = f'{movie[0]} ({movie[1]})'\n",
    "# если ответили верно, можете добавить комментарий со значком \"+\""
   ]
  },
  {
   "cell_type": "code",
   "execution_count": 38,
   "metadata": {
    "colab": {},
    "colab_type": "code",
    "id": "dZwb3m28Vp-S"
   },
   "outputs": [
    {
     "data": {
      "text/plain": [
       "{'1': 'The Lone Ranger (tt1210819)'}"
      ]
     },
     "execution_count": 38,
     "metadata": {},
     "output_type": "execute_result"
    }
   ],
   "source": [
    "movie= data.loc[data.budget.idxmax()][[ 'original_title','imdb_id']].values\n",
    "answers"
   ]
  },
  {
   "cell_type": "markdown",
   "metadata": {
    "colab_type": "text",
    "id": "K7L3nbRXVp-X"
   },
   "source": [
    "ВАРИАНТ 2"
   ]
  },
  {
   "cell_type": "code",
   "execution_count": 39,
   "metadata": {
    "colab": {},
    "colab_type": "code",
    "id": "OGaoQI7rVp-X"
   },
   "outputs": [],
   "source": [
    "# можно добавлять разные варианты решения"
   ]
  },
  {
   "cell_type": "markdown",
   "metadata": {
    "colab_type": "text",
    "id": "FNRbbI3vVp-c"
   },
   "source": [
    "# 2. Какой из фильмов самый длительный (в минутах)?"
   ]
  },
  {
   "cell_type": "code",
   "execution_count": 40,
   "metadata": {
    "colab": {},
    "colab_type": "code",
    "id": "vHAoEXNTVp-d"
   },
   "outputs": [],
   "source": [
    "# думаю логику работы с этим словарем вы уже поняли, \n",
    "# по этому не буду больше его дублировать\n",
    "answers['2'] = f'{movie[0]} ({movie[1]})'"
   ]
  },
  {
   "cell_type": "code",
   "execution_count": 41,
   "metadata": {
    "colab": {},
    "colab_type": "code",
    "id": "ot-VX2XrVp-g"
   },
   "outputs": [
    {
     "data": {
      "text/plain": [
       "{'1': 'The Lone Ranger (tt1210819)',\n",
       " '2': 'Pirates of the Caribbean: On Stranger Tides (tt1298650)'}"
      ]
     },
     "execution_count": 41,
     "metadata": {},
     "output_type": "execute_result"
    }
   ],
   "source": [
    "movie= data.loc[data.runtime.idxmax()][[ 'original_title','imdb_id']].values\n",
    "answers"
   ]
  },
  {
   "cell_type": "markdown",
   "metadata": {
    "colab_type": "text",
    "id": "bapLlpW8Vp-k"
   },
   "source": [
    "# 3. Какой из фильмов самый короткий (в минутах)?\n",
    "\n",
    "\n",
    "\n"
   ]
  },
  {
   "cell_type": "code",
   "execution_count": 42,
   "metadata": {
    "colab": {},
    "colab_type": "code",
    "id": "YBxaSHuAVp-l"
   },
   "outputs": [
    {
     "data": {
      "text/plain": [
       "{'1': 'The Lone Ranger (tt1210819)',\n",
       " '2': 'Pirates of the Caribbean: On Stranger Tides (tt1298650)',\n",
       " '3': 'Winnie the Pooh (tt1449283)'}"
      ]
     },
     "execution_count": 42,
     "metadata": {},
     "output_type": "execute_result"
    }
   ],
   "source": [
    "movie= data.loc[data.runtime.idxmin()][[ 'original_title','imdb_id']].values\n",
    "answers['3'] = f'{movie[0]} ({movie[1]})'\n",
    "answers"
   ]
  },
  {
   "cell_type": "markdown",
   "metadata": {
    "colab_type": "text",
    "id": "TfQbxbfNVp-p"
   },
   "source": [
    "# 4. Какова средняя длительность фильмов?\n"
   ]
  },
  {
   "cell_type": "code",
   "execution_count": 43,
   "metadata": {
    "colab": {},
    "colab_type": "code",
    "id": "5K6dKZYVVp-q"
   },
   "outputs": [
    {
     "data": {
      "text/plain": [
       "{'1': 'The Lone Ranger (tt1210819)',\n",
       " '2': 'Pirates of the Caribbean: On Stranger Tides (tt1298650)',\n",
       " '3': 'Winnie the Pooh (tt1449283)',\n",
       " '4': 109.6585494970884}"
      ]
     },
     "execution_count": 43,
     "metadata": {},
     "output_type": "execute_result"
    }
   ],
   "source": [
    "answers['4'] = data.runtime.mean()\n",
    "answers"
   ]
  },
  {
   "cell_type": "markdown",
   "metadata": {
    "colab_type": "text",
    "id": "r5TvbnT_Vp-u"
   },
   "source": [
    "# 5. Каково медианное значение длительности фильмов? "
   ]
  },
  {
   "cell_type": "code",
   "execution_count": 44,
   "metadata": {
    "colab": {},
    "colab_type": "code",
    "id": "iBROplKnVp-v"
   },
   "outputs": [
    {
     "data": {
      "text/plain": [
       "{'1': 'The Lone Ranger (tt1210819)',\n",
       " '2': 'Pirates of the Caribbean: On Stranger Tides (tt1298650)',\n",
       " '3': 'Winnie the Pooh (tt1449283)',\n",
       " '4': 109.6585494970884,\n",
       " '5': 107.0}"
      ]
     },
     "execution_count": 44,
     "metadata": {},
     "output_type": "execute_result"
    }
   ],
   "source": [
    "answers['5'] = data.runtime.median()\n",
    "answers"
   ]
  },
  {
   "cell_type": "markdown",
   "metadata": {
    "colab_type": "text",
    "id": "39P-deDSVp-y"
   },
   "source": [
    "# 6. Какой самый прибыльный фильм?\n",
    "#### Внимание! Здесь и далее под «прибылью» или «убытками» понимается разность между сборами и бюджетом фильма. (прибыль = сборы - бюджет) в нашем датасете это будет (profit = revenue - budget) "
   ]
  },
  {
   "cell_type": "code",
   "execution_count": 45,
   "metadata": {
    "colab": {},
    "colab_type": "code",
    "id": "UYZh4T9WVp-y"
   },
   "outputs": [],
   "source": [
    "data['profit']= data.revenue - data.budget"
   ]
  },
  {
   "cell_type": "code",
   "execution_count": 46,
   "metadata": {},
   "outputs": [
    {
     "data": {
      "text/plain": [
       "{'1': 'The Lone Ranger (tt1210819)',\n",
       " '2': 'Pirates of the Caribbean: On Stranger Tides (tt1298650)',\n",
       " '3': 'Winnie the Pooh (tt1449283)',\n",
       " '4': 109.6585494970884,\n",
       " '5': 107.0,\n",
       " '6': 'Avatar (tt0499549)'}"
      ]
     },
     "execution_count": 46,
     "metadata": {},
     "output_type": "execute_result"
    }
   ],
   "source": [
    "movie= data.loc[data.profit.idxmax()][[ 'original_title','imdb_id']].values\n",
    "answers['6'] = f'{movie[0]} ({movie[1]})'\n",
    "answers"
   ]
  },
  {
   "cell_type": "markdown",
   "metadata": {
    "colab_type": "text",
    "id": "M99JmIX4Vp-2"
   },
   "source": [
    "# 7. Какой фильм самый убыточный? "
   ]
  },
  {
   "cell_type": "code",
   "execution_count": 47,
   "metadata": {
    "colab": {},
    "colab_type": "code",
    "id": "w-D2m4XPVp-3"
   },
   "outputs": [
    {
     "data": {
      "text/plain": [
       "{'1': 'The Lone Ranger (tt1210819)',\n",
       " '2': 'Pirates of the Caribbean: On Stranger Tides (tt1298650)',\n",
       " '3': 'Winnie the Pooh (tt1449283)',\n",
       " '4': 109.6585494970884,\n",
       " '5': 107.0,\n",
       " '6': 'Avatar (tt0499549)',\n",
       " '7': 'The Lone Ranger (tt1210819)'}"
      ]
     },
     "execution_count": 47,
     "metadata": {},
     "output_type": "execute_result"
    }
   ],
   "source": [
    "movie= data.loc[data.profit.idxmin()][[ 'original_title','imdb_id']].values\n",
    "answers['7'] = f'{movie[0]} ({movie[1]})'\n",
    "answers"
   ]
  },
  {
   "cell_type": "markdown",
   "metadata": {
    "colab_type": "text",
    "id": "wEOM5ERVVp-6"
   },
   "source": [
    "# 8. У скольких фильмов из датасета объем сборов оказался выше бюджета?"
   ]
  },
  {
   "cell_type": "code",
   "execution_count": 48,
   "metadata": {
    "colab": {},
    "colab_type": "code",
    "id": "y00_7HD6Vp-7"
   },
   "outputs": [
    {
     "data": {
      "text/plain": [
       "{'1': 'The Lone Ranger (tt1210819)',\n",
       " '2': 'Pirates of the Caribbean: On Stranger Tides (tt1298650)',\n",
       " '3': 'Winnie the Pooh (tt1449283)',\n",
       " '4': 109.6585494970884,\n",
       " '5': 107.0,\n",
       " '6': 'Avatar (tt0499549)',\n",
       " '7': 'The Lone Ranger (tt1210819)',\n",
       " '8': 1478}"
      ]
     },
     "execution_count": 48,
     "metadata": {},
     "output_type": "execute_result"
    }
   ],
   "source": [
    "answers['8'] = len(data[data['profit']>0])\n",
    "answers"
   ]
  },
  {
   "cell_type": "markdown",
   "metadata": {
    "colab_type": "text",
    "id": "xhpspA9KVp_A"
   },
   "source": [
    "# 9. Какой фильм оказался самым кассовым в 2008 году?"
   ]
  },
  {
   "cell_type": "code",
   "execution_count": 55,
   "metadata": {
    "colab": {},
    "colab_type": "code",
    "id": "MoUyQr9RVp_B"
   },
   "outputs": [
    {
     "data": {
      "text/plain": [
       "{'1': 'The Lone Ranger (tt1210819)',\n",
       " '2': 'Pirates of the Caribbean: On Stranger Tides (tt1298650)',\n",
       " '3': 'Winnie the Pooh (tt1449283)',\n",
       " '4': 109.6585494970884,\n",
       " '5': 107.0,\n",
       " '6': 'Avatar (tt0499549)',\n",
       " '7': 'The Lone Ranger (tt1210819)',\n",
       " '8': 1478,\n",
       " '9': 'The Dark Knight (tt0468569)'}"
      ]
     },
     "execution_count": 55,
     "metadata": {},
     "output_type": "execute_result"
    }
   ],
   "source": [
    "data2=data[data.release_year==2008]\n",
    "movie= data2.loc[data2.profit.idxmax()][[ 'original_title','imdb_id']].values\n",
    "answers['9'] = f'{movie[0]} ({movie[1]})'\n",
    "answers"
   ]
  },
  {
   "cell_type": "markdown",
   "metadata": {
    "colab_type": "text",
    "id": "Zi4hDKidVp_F"
   },
   "source": [
    "# 10. Самый убыточный фильм за период с 2012 по 2014 г. (включительно)?\n"
   ]
  },
  {
   "cell_type": "code",
   "execution_count": 56,
   "metadata": {
    "colab": {},
    "colab_type": "code",
    "id": "XqyRmufJVp_F"
   },
   "outputs": [
    {
     "data": {
      "text/plain": [
       "{'1': 'The Lone Ranger (tt1210819)',\n",
       " '2': 'Pirates of the Caribbean: On Stranger Tides (tt1298650)',\n",
       " '3': 'Winnie the Pooh (tt1449283)',\n",
       " '4': 109.6585494970884,\n",
       " '5': 107.0,\n",
       " '6': 'Avatar (tt0499549)',\n",
       " '7': 'The Lone Ranger (tt1210819)',\n",
       " '8': 1478,\n",
       " '9': 'The Dark Knight (tt0468569)',\n",
       " '10': 'The Lone Ranger (tt1210819)'}"
      ]
     },
     "execution_count": 56,
     "metadata": {},
     "output_type": "execute_result"
    }
   ],
   "source": [
    "data2=data[data.release_year.isin(list(range(2012,2015)))]\n",
    "movie= data2.loc[data2.profit.idxmin()][[ 'original_title','imdb_id']].values\n",
    "answers['10'] = f'{movie[0]} ({movie[1]})'\n",
    "answers"
   ]
  },
  {
   "cell_type": "markdown",
   "metadata": {
    "colab_type": "text",
    "id": "EA7Sa9dkVp_I"
   },
   "source": [
    "# 11. Какого жанра фильмов больше всего?"
   ]
  },
  {
   "cell_type": "code",
   "execution_count": 50,
   "metadata": {
    "colab": {},
    "colab_type": "code",
    "id": "zsJAwJ8QVp_J"
   },
   "outputs": [],
   "source": [
    "# эту задачу тоже можно решать разными подходами, попробуй реализовать разные варианты\n",
    "# если будешь добавлять функцию - выноси ее в предобработку что в начале"
   ]
  },
  {
   "cell_type": "markdown",
   "metadata": {
    "colab_type": "text",
    "id": "Ax6g2C8SVp_M"
   },
   "source": [
    "ВАРИАНТ 2"
   ]
  },
  {
   "cell_type": "code",
   "execution_count": 61,
   "metadata": {
    "colab": {},
    "colab_type": "code",
    "id": "otO3SbrSVp_N"
   },
   "outputs": [],
   "source": [
    "answers['11'] = data.genres.value_counts().nlargest(1).index[0]"
   ]
  },
  {
   "cell_type": "markdown",
   "metadata": {
    "colab_type": "text",
    "id": "T9_bPWpkVp_Q"
   },
   "source": [
    "# 12. Фильмы какого жанра чаще всего становятся прибыльными? "
   ]
  },
  {
   "cell_type": "code",
   "execution_count": 64,
   "metadata": {
    "colab": {},
    "colab_type": "code",
    "id": "Tmt8MaK1Vp_R"
   },
   "outputs": [
    {
     "data": {
      "text/plain": [
       "{'1': 'The Lone Ranger (tt1210819)',\n",
       " '2': 'Pirates of the Caribbean: On Stranger Tides (tt1298650)',\n",
       " '3': 'Winnie the Pooh (tt1449283)',\n",
       " '4': 109.6585494970884,\n",
       " '5': 107.0,\n",
       " '6': 'Avatar (tt0499549)',\n",
       " '7': 'The Lone Ranger (tt1210819)',\n",
       " '8': 1478,\n",
       " '9': 'The Dark Knight (tt0468569)',\n",
       " '10': 'The Lone Ranger (tt1210819)',\n",
       " '11': 'Comedy',\n",
       " '12': 'Comedy'}"
      ]
     },
     "execution_count": 64,
     "metadata": {},
     "output_type": "execute_result"
    }
   ],
   "source": [
    "data2= data[data.profit>0].genres.value_counts().nlargest(1).index[0]\n",
    "answers['12']= data2\n",
    "answers"
   ]
  },
  {
   "cell_type": "markdown",
   "metadata": {
    "colab_type": "text",
    "id": "0F23bgsDVp_U"
   },
   "source": [
    "# 13. У какого режиссера самые большие суммарные кассовые сборы?"
   ]
  },
  {
   "cell_type": "code",
   "execution_count": 146,
   "metadata": {
    "colab": {},
    "colab_type": "code",
    "id": "K6Z3J8ygVp_X"
   },
   "outputs": [
    {
     "data": {
      "text/plain": [
       "'Peter Jackson'"
      ]
     },
     "execution_count": 146,
     "metadata": {},
     "output_type": "execute_result"
    }
   ],
   "source": [
    "data2= data.groupby('director')['revenue'].sum().nlargest(1).index[0]\n",
    "answers['13']= data2\n",
    "data2\n"
   ]
  },
  {
   "cell_type": "markdown",
   "metadata": {
    "colab_type": "text",
    "id": "PsYC9FgRVp_a"
   },
   "source": [
    "# 14. Какой режисер снял больше всего фильмов в стиле Action?"
   ]
  },
  {
   "cell_type": "code",
   "execution_count": 152,
   "metadata": {
    "colab": {},
    "colab_type": "code",
    "id": "wd2M-wHeVp_b"
   },
   "outputs": [
    {
     "data": {
      "text/html": [
       "<div>\n",
       "<style scoped>\n",
       "    .dataframe tbody tr th:only-of-type {\n",
       "        vertical-align: middle;\n",
       "    }\n",
       "\n",
       "    .dataframe tbody tr th {\n",
       "        vertical-align: top;\n",
       "    }\n",
       "\n",
       "    .dataframe thead th {\n",
       "        text-align: right;\n",
       "    }\n",
       "</style>\n",
       "<table border=\"1\" class=\"dataframe\">\n",
       "  <thead>\n",
       "    <tr style=\"text-align: right;\">\n",
       "      <th></th>\n",
       "      <th>imdb_id</th>\n",
       "      <th>budget</th>\n",
       "      <th>revenue</th>\n",
       "      <th>original_title</th>\n",
       "      <th>cast</th>\n",
       "      <th>director</th>\n",
       "      <th>tagline</th>\n",
       "      <th>overview</th>\n",
       "      <th>runtime</th>\n",
       "      <th>genres</th>\n",
       "      <th>production_companies</th>\n",
       "      <th>release_date</th>\n",
       "      <th>vote_average</th>\n",
       "      <th>release_year</th>\n",
       "    </tr>\n",
       "  </thead>\n",
       "  <tbody>\n",
       "    <tr>\n",
       "      <th>25</th>\n",
       "      <td>tt2381249</td>\n",
       "      <td>150000000</td>\n",
       "      <td>682330139</td>\n",
       "      <td>Mission: Impossible - Rogue Nation</td>\n",
       "      <td>Tom Cruise|Jeremy Renner|Simon Pegg|Rebecca Fe...</td>\n",
       "      <td>Christopher McQuarrie</td>\n",
       "      <td>Desperate Times. Desperate Measures.</td>\n",
       "      <td>Ethan and team take on their most impossible m...</td>\n",
       "      <td>131</td>\n",
       "      <td>Action</td>\n",
       "      <td>Paramount Pictures|Skydance Productions|China ...</td>\n",
       "      <td>7/23/2015</td>\n",
       "      <td>7.1</td>\n",
       "      <td>2015</td>\n",
       "    </tr>\n",
       "    <tr>\n",
       "      <th>298</th>\n",
       "      <td>tt0473705</td>\n",
       "      <td>60000000</td>\n",
       "      <td>87784194</td>\n",
       "      <td>State of Play</td>\n",
       "      <td>Russell Crowe|Ben Affleck|Rachel McAdams|Robin...</td>\n",
       "      <td>Kevin Macdonald</td>\n",
       "      <td>Find The Truth</td>\n",
       "      <td>Handsome, unflappable U.S. Congressman Stephen...</td>\n",
       "      <td>127</td>\n",
       "      <td>Action</td>\n",
       "      <td>Universal Pictures|StudioCanal|Andell Entertai...</td>\n",
       "      <td>4/17/2009</td>\n",
       "      <td>6.6</td>\n",
       "      <td>2009</td>\n",
       "    </tr>\n",
       "    <tr>\n",
       "      <th>307</th>\n",
       "      <td>tt0465580</td>\n",
       "      <td>38000000</td>\n",
       "      <td>45465299</td>\n",
       "      <td>Push</td>\n",
       "      <td>Dakota Fanning|Camilla Belle|Chris Evans|Djimo...</td>\n",
       "      <td>Paul McGuigan</td>\n",
       "      <td>One push can change everything.</td>\n",
       "      <td>After his father, an assassin, is brutally mur...</td>\n",
       "      <td>111</td>\n",
       "      <td>Action</td>\n",
       "      <td>Icon Productions|Infinity Features Entertainme...</td>\n",
       "      <td>2/6/2009</td>\n",
       "      <td>5.8</td>\n",
       "      <td>2009</td>\n",
       "    </tr>\n",
       "    <tr>\n",
       "      <th>389</th>\n",
       "      <td>tt0955308</td>\n",
       "      <td>200000000</td>\n",
       "      <td>310669540</td>\n",
       "      <td>Robin Hood</td>\n",
       "      <td>Russell Crowe|Cate Blanchett|Mark Strong|Oscar...</td>\n",
       "      <td>Ridley Scott</td>\n",
       "      <td>Rise and rise again, until lambs become lions.</td>\n",
       "      <td>When soldier Robin happens upon the dying Robe...</td>\n",
       "      <td>140</td>\n",
       "      <td>Action</td>\n",
       "      <td>Imagine Entertainment|Universal Pictures|Scott...</td>\n",
       "      <td>5/12/2010</td>\n",
       "      <td>6.1</td>\n",
       "      <td>2010</td>\n",
       "    </tr>\n",
       "    <tr>\n",
       "      <th>419</th>\n",
       "      <td>tt1038919</td>\n",
       "      <td>40000000</td>\n",
       "      <td>136000000</td>\n",
       "      <td>The Bounty Hunter</td>\n",
       "      <td>Gerard Butler|Jennifer Aniston|Gio Perez|Siobh...</td>\n",
       "      <td>Andy Tennant</td>\n",
       "      <td>It's a Job. It Isn't Personal. Well, Maybe a L...</td>\n",
       "      <td>Milo Boyd is a bounty hunter whose latest gig ...</td>\n",
       "      <td>110</td>\n",
       "      <td>Action</td>\n",
       "      <td>Columbia Pictures|Original Film|Relativity Med...</td>\n",
       "      <td>3/16/2010</td>\n",
       "      <td>5.5</td>\n",
       "      <td>2010</td>\n",
       "    </tr>\n",
       "    <tr>\n",
       "      <th>583</th>\n",
       "      <td>tt0132245</td>\n",
       "      <td>94000000</td>\n",
       "      <td>54744738</td>\n",
       "      <td>Driven</td>\n",
       "      <td>Kip Pardue|Robert Sean Leonard|Til Schweiger|E...</td>\n",
       "      <td>Renny Harlin</td>\n",
       "      <td>Get ready for the race of your life.</td>\n",
       "      <td>Talented rookie race-car driver Jimmy Bly has ...</td>\n",
       "      <td>116</td>\n",
       "      <td>Action</td>\n",
       "      <td>Epsilon Motion Pictures|Franchise Pictures|Tra...</td>\n",
       "      <td>4/27/2001</td>\n",
       "      <td>4.8</td>\n",
       "      <td>2001</td>\n",
       "    </tr>\n",
       "    <tr>\n",
       "      <th>651</th>\n",
       "      <td>tt0467197</td>\n",
       "      <td>35000000</td>\n",
       "      <td>85416905</td>\n",
       "      <td>Max Payne</td>\n",
       "      <td>Mark Wahlberg|Mila Kunis|Beau Bridges|Ludacris...</td>\n",
       "      <td>John Moore</td>\n",
       "      <td>When a Man Has Lost Everything. He Only has Re...</td>\n",
       "      <td>Coming together to solve a series of murders i...</td>\n",
       "      <td>100</td>\n",
       "      <td>Action</td>\n",
       "      <td>Dune Entertainment|Firm Films|Collision Entert...</td>\n",
       "      <td>10/16/2008</td>\n",
       "      <td>5.3</td>\n",
       "      <td>2008</td>\n",
       "    </tr>\n",
       "    <tr>\n",
       "      <th>876</th>\n",
       "      <td>tt0295701</td>\n",
       "      <td>70000000</td>\n",
       "      <td>277448382</td>\n",
       "      <td>xXx</td>\n",
       "      <td>Vin Diesel|Asia Argento|Marton Csokas|Samuel L...</td>\n",
       "      <td>Rob Cohen</td>\n",
       "      <td>A New Breed Of Secret Agent.</td>\n",
       "      <td>Xander Cage is your standard adrenaline junkie...</td>\n",
       "      <td>124</td>\n",
       "      <td>Action</td>\n",
       "      <td>Columbia Pictures|Original Film|Revolution Stu...</td>\n",
       "      <td>8/9/2002</td>\n",
       "      <td>5.7</td>\n",
       "      <td>2002</td>\n",
       "    </tr>\n",
       "    <tr>\n",
       "      <th>1115</th>\n",
       "      <td>tt0285823</td>\n",
       "      <td>29000000</td>\n",
       "      <td>98185582</td>\n",
       "      <td>Once Upon a Time in Mexico</td>\n",
       "      <td>Antonio Banderas|Salma Hayek|Johnny Depp|Eva M...</td>\n",
       "      <td>Robert Rodriguez</td>\n",
       "      <td>The Time Has Come.</td>\n",
       "      <td>Hitman \"El Mariachi\" becomes involved in inter...</td>\n",
       "      <td>102</td>\n",
       "      <td>Action</td>\n",
       "      <td>Columbia Pictures Corporation|Dimension Films|...</td>\n",
       "      <td>9/11/2003</td>\n",
       "      <td>6.1</td>\n",
       "      <td>2003</td>\n",
       "    </tr>\n",
       "    <tr>\n",
       "      <th>1169</th>\n",
       "      <td>tt0313911</td>\n",
       "      <td>28000000</td>\n",
       "      <td>58795814</td>\n",
       "      <td>Agent Cody Banks</td>\n",
       "      <td>Frankie Muniz|Hilary Duff|Angie Harmon|Keith D...</td>\n",
       "      <td>Harald Zwart</td>\n",
       "      <td>Save the world. Get the girl. Pass math.</td>\n",
       "      <td>Recruited by the U.S. government to be a speci...</td>\n",
       "      <td>102</td>\n",
       "      <td>Action</td>\n",
       "      <td>Splendid Pictures|Maverick Films|Metro-Goldwyn...</td>\n",
       "      <td>3/12/2003</td>\n",
       "      <td>4.9</td>\n",
       "      <td>2003</td>\n",
       "    </tr>\n",
       "    <tr>\n",
       "      <th>1347</th>\n",
       "      <td>tt0357277</td>\n",
       "      <td>43000000</td>\n",
       "      <td>56681566</td>\n",
       "      <td>Elektra</td>\n",
       "      <td>Jennifer Garner|Goran Visnjic|Will Yun Lee|Car...</td>\n",
       "      <td>Rob Bowman</td>\n",
       "      <td>Looks can kill</td>\n",
       "      <td>Elektra the warrior survives a near-death expe...</td>\n",
       "      <td>97</td>\n",
       "      <td>Action</td>\n",
       "      <td>Twentieth Century Fox Film Corporation|Regency...</td>\n",
       "      <td>1/13/2005</td>\n",
       "      <td>5.0</td>\n",
       "      <td>2005</td>\n",
       "    </tr>\n",
       "    <tr>\n",
       "      <th>1366</th>\n",
       "      <td>tt0373926</td>\n",
       "      <td>80000000</td>\n",
       "      <td>162944923</td>\n",
       "      <td>The Interpreter</td>\n",
       "      <td>Nicole Kidman|Sean Penn|Catherine Keener|Jespe...</td>\n",
       "      <td>Sydney Pollack</td>\n",
       "      <td>The truth needs no translation.</td>\n",
       "      <td>After Silvia Broome, an interpreter at United ...</td>\n",
       "      <td>128</td>\n",
       "      <td>Action</td>\n",
       "      <td>Universal Pictures|StudioCanal|Mirage Enterpri...</td>\n",
       "      <td>4/4/2005</td>\n",
       "      <td>6.2</td>\n",
       "      <td>2005</td>\n",
       "    </tr>\n",
       "    <tr>\n",
       "      <th>1402</th>\n",
       "      <td>tt0382992</td>\n",
       "      <td>135000000</td>\n",
       "      <td>76932943</td>\n",
       "      <td>Stealth</td>\n",
       "      <td>Josh Lucas|Jessica Biel|Jamie Foxx|Sam Shepard...</td>\n",
       "      <td>Rob Cohen</td>\n",
       "      <td>Fear The Sky</td>\n",
       "      <td>Deeply ensconced in a top-secret military prog...</td>\n",
       "      <td>121</td>\n",
       "      <td>Action</td>\n",
       "      <td>Laura Ziskin Productions|Original Film|Columbi...</td>\n",
       "      <td>7/28/2005</td>\n",
       "      <td>5.0</td>\n",
       "      <td>2005</td>\n",
       "    </tr>\n",
       "    <tr>\n",
       "      <th>1519</th>\n",
       "      <td>tt0406816</td>\n",
       "      <td>70000000</td>\n",
       "      <td>55011732</td>\n",
       "      <td>The Guardian</td>\n",
       "      <td>Kevin Costner|Ashton Kutcher|Sela Ward|Melissa...</td>\n",
       "      <td>Andrew Davis</td>\n",
       "      <td>How Do You Decide Who Lives Or Who Dies?</td>\n",
       "      <td>A high school swim champion with a troubled pa...</td>\n",
       "      <td>139</td>\n",
       "      <td>Action</td>\n",
       "      <td>Contrafilm|Firm Films|Touchstone Pictures|Beac...</td>\n",
       "      <td>9/28/2006</td>\n",
       "      <td>7.0</td>\n",
       "      <td>2006</td>\n",
       "    </tr>\n",
       "    <tr>\n",
       "      <th>1656</th>\n",
       "      <td>tt0329691</td>\n",
       "      <td>40000000</td>\n",
       "      <td>46546197</td>\n",
       "      <td>Torque</td>\n",
       "      <td>Martin Henderson|Ice Cube|Monet Mazur|Adam Sco...</td>\n",
       "      <td>Joseph Kahn</td>\n",
       "      <td>Circuit of Fire</td>\n",
       "      <td>Biker Cary Ford is framed by an old rival and ...</td>\n",
       "      <td>84</td>\n",
       "      <td>Action</td>\n",
       "      <td>Village Roadshow Pictures|Original Film|Warner...</td>\n",
       "      <td>1/16/2004</td>\n",
       "      <td>4.8</td>\n",
       "      <td>2004</td>\n",
       "    </tr>\n",
       "    <tr>\n",
       "      <th>1779</th>\n",
       "      <td>tt0446013</td>\n",
       "      <td>45000000</td>\n",
       "      <td>30822861</td>\n",
       "      <td>Pathfinder</td>\n",
       "      <td>Karl Urban|Moon Bloodgood|Russell Means|Clancy...</td>\n",
       "      <td>Marcus Nispel</td>\n",
       "      <td>Two Worlds, One War. The Ultimate Battle Begins.</td>\n",
       "      <td>A Viking boy is left behind after his clan bat...</td>\n",
       "      <td>99</td>\n",
       "      <td>Action</td>\n",
       "      <td>Twentieth Century Fox Film Corporation|Dune En...</td>\n",
       "      <td>1/11/2007</td>\n",
       "      <td>5.4</td>\n",
       "      <td>2007</td>\n",
       "    </tr>\n",
       "  </tbody>\n",
       "</table>\n",
       "</div>"
      ],
      "text/plain": [
       "        imdb_id     budget    revenue                      original_title  \\\n",
       "25    tt2381249  150000000  682330139  Mission: Impossible - Rogue Nation   \n",
       "298   tt0473705   60000000   87784194                       State of Play   \n",
       "307   tt0465580   38000000   45465299                                Push   \n",
       "389   tt0955308  200000000  310669540                          Robin Hood   \n",
       "419   tt1038919   40000000  136000000                   The Bounty Hunter   \n",
       "583   tt0132245   94000000   54744738                              Driven   \n",
       "651   tt0467197   35000000   85416905                           Max Payne   \n",
       "876   tt0295701   70000000  277448382                                 xXx   \n",
       "1115  tt0285823   29000000   98185582          Once Upon a Time in Mexico   \n",
       "1169  tt0313911   28000000   58795814                    Agent Cody Banks   \n",
       "1347  tt0357277   43000000   56681566                             Elektra   \n",
       "1366  tt0373926   80000000  162944923                     The Interpreter   \n",
       "1402  tt0382992  135000000   76932943                             Stealth   \n",
       "1519  tt0406816   70000000   55011732                        The Guardian   \n",
       "1656  tt0329691   40000000   46546197                              Torque   \n",
       "1779  tt0446013   45000000   30822861                          Pathfinder   \n",
       "\n",
       "                                                   cast  \\\n",
       "25    Tom Cruise|Jeremy Renner|Simon Pegg|Rebecca Fe...   \n",
       "298   Russell Crowe|Ben Affleck|Rachel McAdams|Robin...   \n",
       "307   Dakota Fanning|Camilla Belle|Chris Evans|Djimo...   \n",
       "389   Russell Crowe|Cate Blanchett|Mark Strong|Oscar...   \n",
       "419   Gerard Butler|Jennifer Aniston|Gio Perez|Siobh...   \n",
       "583   Kip Pardue|Robert Sean Leonard|Til Schweiger|E...   \n",
       "651   Mark Wahlberg|Mila Kunis|Beau Bridges|Ludacris...   \n",
       "876   Vin Diesel|Asia Argento|Marton Csokas|Samuel L...   \n",
       "1115  Antonio Banderas|Salma Hayek|Johnny Depp|Eva M...   \n",
       "1169  Frankie Muniz|Hilary Duff|Angie Harmon|Keith D...   \n",
       "1347  Jennifer Garner|Goran Visnjic|Will Yun Lee|Car...   \n",
       "1366  Nicole Kidman|Sean Penn|Catherine Keener|Jespe...   \n",
       "1402  Josh Lucas|Jessica Biel|Jamie Foxx|Sam Shepard...   \n",
       "1519  Kevin Costner|Ashton Kutcher|Sela Ward|Melissa...   \n",
       "1656  Martin Henderson|Ice Cube|Monet Mazur|Adam Sco...   \n",
       "1779  Karl Urban|Moon Bloodgood|Russell Means|Clancy...   \n",
       "\n",
       "                   director  \\\n",
       "25    Christopher McQuarrie   \n",
       "298         Kevin Macdonald   \n",
       "307           Paul McGuigan   \n",
       "389            Ridley Scott   \n",
       "419            Andy Tennant   \n",
       "583            Renny Harlin   \n",
       "651              John Moore   \n",
       "876               Rob Cohen   \n",
       "1115       Robert Rodriguez   \n",
       "1169           Harald Zwart   \n",
       "1347             Rob Bowman   \n",
       "1366         Sydney Pollack   \n",
       "1402              Rob Cohen   \n",
       "1519           Andrew Davis   \n",
       "1656            Joseph Kahn   \n",
       "1779          Marcus Nispel   \n",
       "\n",
       "                                                tagline  \\\n",
       "25                 Desperate Times. Desperate Measures.   \n",
       "298                                      Find The Truth   \n",
       "307                     One push can change everything.   \n",
       "389      Rise and rise again, until lambs become lions.   \n",
       "419   It's a Job. It Isn't Personal. Well, Maybe a L...   \n",
       "583                Get ready for the race of your life.   \n",
       "651   When a Man Has Lost Everything. He Only has Re...   \n",
       "876                        A New Breed Of Secret Agent.   \n",
       "1115                                 The Time Has Come.   \n",
       "1169           Save the world. Get the girl. Pass math.   \n",
       "1347                                     Looks can kill   \n",
       "1366                    The truth needs no translation.   \n",
       "1402                                       Fear The Sky   \n",
       "1519           How Do You Decide Who Lives Or Who Dies?   \n",
       "1656                                    Circuit of Fire   \n",
       "1779   Two Worlds, One War. The Ultimate Battle Begins.   \n",
       "\n",
       "                                               overview  runtime  genres  \\\n",
       "25    Ethan and team take on their most impossible m...      131  Action   \n",
       "298   Handsome, unflappable U.S. Congressman Stephen...      127  Action   \n",
       "307   After his father, an assassin, is brutally mur...      111  Action   \n",
       "389   When soldier Robin happens upon the dying Robe...      140  Action   \n",
       "419   Milo Boyd is a bounty hunter whose latest gig ...      110  Action   \n",
       "583   Talented rookie race-car driver Jimmy Bly has ...      116  Action   \n",
       "651   Coming together to solve a series of murders i...      100  Action   \n",
       "876   Xander Cage is your standard adrenaline junkie...      124  Action   \n",
       "1115  Hitman \"El Mariachi\" becomes involved in inter...      102  Action   \n",
       "1169  Recruited by the U.S. government to be a speci...      102  Action   \n",
       "1347  Elektra the warrior survives a near-death expe...       97  Action   \n",
       "1366  After Silvia Broome, an interpreter at United ...      128  Action   \n",
       "1402  Deeply ensconced in a top-secret military prog...      121  Action   \n",
       "1519  A high school swim champion with a troubled pa...      139  Action   \n",
       "1656  Biker Cary Ford is framed by an old rival and ...       84  Action   \n",
       "1779  A Viking boy is left behind after his clan bat...       99  Action   \n",
       "\n",
       "                                   production_companies release_date  \\\n",
       "25    Paramount Pictures|Skydance Productions|China ...    7/23/2015   \n",
       "298   Universal Pictures|StudioCanal|Andell Entertai...    4/17/2009   \n",
       "307   Icon Productions|Infinity Features Entertainme...     2/6/2009   \n",
       "389   Imagine Entertainment|Universal Pictures|Scott...    5/12/2010   \n",
       "419   Columbia Pictures|Original Film|Relativity Med...    3/16/2010   \n",
       "583   Epsilon Motion Pictures|Franchise Pictures|Tra...    4/27/2001   \n",
       "651   Dune Entertainment|Firm Films|Collision Entert...   10/16/2008   \n",
       "876   Columbia Pictures|Original Film|Revolution Stu...     8/9/2002   \n",
       "1115  Columbia Pictures Corporation|Dimension Films|...    9/11/2003   \n",
       "1169  Splendid Pictures|Maverick Films|Metro-Goldwyn...    3/12/2003   \n",
       "1347  Twentieth Century Fox Film Corporation|Regency...    1/13/2005   \n",
       "1366  Universal Pictures|StudioCanal|Mirage Enterpri...     4/4/2005   \n",
       "1402  Laura Ziskin Productions|Original Film|Columbi...    7/28/2005   \n",
       "1519  Contrafilm|Firm Films|Touchstone Pictures|Beac...    9/28/2006   \n",
       "1656  Village Roadshow Pictures|Original Film|Warner...    1/16/2004   \n",
       "1779  Twentieth Century Fox Film Corporation|Dune En...    1/11/2007   \n",
       "\n",
       "      vote_average  release_year  \n",
       "25             7.1          2015  \n",
       "298            6.6          2009  \n",
       "307            5.8          2009  \n",
       "389            6.1          2010  \n",
       "419            5.5          2010  \n",
       "583            4.8          2001  \n",
       "651            5.3          2008  \n",
       "876            5.7          2002  \n",
       "1115           6.1          2003  \n",
       "1169           4.9          2003  \n",
       "1347           5.0          2005  \n",
       "1366           6.2          2005  \n",
       "1402           5.0          2005  \n",
       "1519           7.0          2006  \n",
       "1656           4.8          2004  \n",
       "1779           5.4          2007  "
      ]
     },
     "execution_count": 152,
     "metadata": {},
     "output_type": "execute_result"
    }
   ],
   "source": [
    "data2= data[data.genres=='Action']\n",
    "answers['14']= data2.director.value_counts().nlargest(1).index[0]\n",
    "data2\n"
   ]
  },
  {
   "cell_type": "markdown",
   "metadata": {
    "colab_type": "text",
    "id": "PQ0KciD7Vp_f"
   },
   "source": [
    "# 15. Фильмы с каким актером принесли самые высокие кассовые сборы в 2012 году? "
   ]
  },
  {
   "cell_type": "code",
   "execution_count": 86,
   "metadata": {
    "colab": {},
    "colab_type": "code",
    "id": "aga62oeKVp_g"
   },
   "outputs": [],
   "source": [
    "data2= data[data.release_year== 2012]\n"
   ]
  },
  {
   "cell_type": "code",
   "execution_count": 87,
   "metadata": {},
   "outputs": [],
   "source": [
    "db={}\n",
    "def acter(row):\n",
    "    \n",
    "    for i in row[\"cast\"].split('|'):\n",
    "        if i in db:\n",
    "            db[i]+= row[\"revenue\"]\n",
    "        else:\n",
    "            db[i]= row[\"revenue\"]\n",
    "            "
   ]
  },
  {
   "cell_type": "code",
   "execution_count": 90,
   "metadata": {},
   "outputs": [
    {
     "data": {
      "text/plain": [
       "{'1': 'The Lone Ranger (tt1210819)',\n",
       " '2': 'Pirates of the Caribbean: On Stranger Tides (tt1298650)',\n",
       " '3': 'Winnie the Pooh (tt1449283)',\n",
       " '4': 109.6585494970884,\n",
       " '5': 107.0,\n",
       " '6': 'Avatar (tt0499549)',\n",
       " '7': 'The Lone Ranger (tt1210819)',\n",
       " '8': 1478,\n",
       " '9': 'The Dark Knight (tt0468569)',\n",
       " '10': 'The Lone Ranger (tt1210819)',\n",
       " '11': 'Comedy',\n",
       " '12': 'Comedy',\n",
       " '13': 'Peter Jackson',\n",
       " '14': 'Rob Cohen',\n",
       " '15': 'Chris Hemsworth'}"
      ]
     },
     "execution_count": 90,
     "metadata": {},
     "output_type": "execute_result"
    }
   ],
   "source": [
    "data2.apply(acter, axis= 1)\n",
    "leader= [0,0]\n",
    "for k,value in db.items():\n",
    "    if value>leader[1]:\n",
    "        leader= [k,value]\n",
    "answers['15'] = leader[0]\n",
    "answers"
   ]
  },
  {
   "cell_type": "markdown",
   "metadata": {
    "colab_type": "text",
    "id": "mWHyyL7QVp_j"
   },
   "source": [
    "# 16. Какой актер снялся в большем количестве высокобюджетных фильмов?"
   ]
  },
  {
   "cell_type": "code",
   "execution_count": 93,
   "metadata": {
    "colab": {},
    "colab_type": "code",
    "id": "qQtmHKTFVp_k"
   },
   "outputs": [
    {
     "data": {
      "text/plain": [
       "{'1': 'The Lone Ranger (tt1210819)',\n",
       " '2': 'Pirates of the Caribbean: On Stranger Tides (tt1298650)',\n",
       " '3': 'Winnie the Pooh (tt1449283)',\n",
       " '4': 109.6585494970884,\n",
       " '5': 107.0,\n",
       " '6': 'Avatar (tt0499549)',\n",
       " '7': 'The Lone Ranger (tt1210819)',\n",
       " '8': 1478,\n",
       " '9': 'The Dark Knight (tt0468569)',\n",
       " '10': 'The Lone Ranger (tt1210819)',\n",
       " '11': 'Comedy',\n",
       " '12': 'Comedy',\n",
       " '13': 'Peter Jackson',\n",
       " '14': 'Rob Cohen',\n",
       " '15': 'Chris Hemsworth',\n",
       " '16': 'Chris Hemsworth'}"
      ]
     },
     "execution_count": 93,
     "metadata": {},
     "output_type": "execute_result"
    }
   ],
   "source": [
    "db={}\n",
    "def acter(row):\n",
    "    \n",
    "    for i in row[\"cast\"].split('|'):\n",
    "        if row ['budget']>= 100000000:\n",
    "            if i in db:\n",
    "                db[i]+= 1\n",
    "            else:\n",
    "                db[i]= 1\n",
    "data2.apply(acter, axis= 1)\n",
    "leader= [0,0]\n",
    "for k,value in db.items():\n",
    "    if value>leader[1]:\n",
    "        leader= [k,value]\n",
    "answers['16'] = leader[0]\n",
    "\n",
    "answers"
   ]
  },
  {
   "cell_type": "markdown",
   "metadata": {
    "colab_type": "text",
    "id": "NIh6AaW5Vp_n"
   },
   "source": [
    "# 17. В фильмах какого жанра больше всего снимался Nicolas Cage? "
   ]
  },
  {
   "cell_type": "code",
   "execution_count": 96,
   "metadata": {
    "colab": {},
    "colab_type": "code",
    "id": "H74SJDIBVp_n"
   },
   "outputs": [
    {
     "data": {
      "text/plain": [
       "{'1': 'The Lone Ranger (tt1210819)',\n",
       " '2': 'Pirates of the Caribbean: On Stranger Tides (tt1298650)',\n",
       " '3': 'Winnie the Pooh (tt1449283)',\n",
       " '4': 109.6585494970884,\n",
       " '5': 107.0,\n",
       " '6': 'Avatar (tt0499549)',\n",
       " '7': 'The Lone Ranger (tt1210819)',\n",
       " '8': 1478,\n",
       " '9': 'The Dark Knight (tt0468569)',\n",
       " '10': 'The Lone Ranger (tt1210819)',\n",
       " '11': 'Comedy',\n",
       " '12': 'Comedy',\n",
       " '13': 'Peter Jackson',\n",
       " '14': 'Rob Cohen',\n",
       " '15': 'Chris Hemsworth',\n",
       " '16': 'Chris Hemsworth',\n",
       " '17': 'Action|Crime|Drama|Thriller'}"
      ]
     },
     "execution_count": 96,
     "metadata": {},
     "output_type": "execute_result"
    }
   ],
   "source": [
    "db={}\n",
    "def acter(row):\n",
    "    \n",
    "     if 'Nicolas Cage' in row[\"cast\"]:\n",
    "        if row ['genres'] in db :\n",
    "            db[row['genres']] += 1\n",
    "        else:\n",
    "            db[row['genres']] = 1\n",
    "data2.apply(acter, axis= 1)\n",
    "leader= [0,0]\n",
    "for k,value in db.items():\n",
    "    if value>leader[1]:\n",
    "        leader= [k,value]\n",
    "answers['17'] = leader[0]\n",
    "\n",
    "answers"
   ]
  },
  {
   "cell_type": "markdown",
   "metadata": {
    "colab_type": "text",
    "id": "RqOmPRfWVp_q"
   },
   "source": [
    "# 18. Самый убыточный фильм от Paramount Pictures"
   ]
  },
  {
   "cell_type": "code",
   "execution_count": 100,
   "metadata": {
    "colab": {},
    "colab_type": "code",
    "id": "9E_B0Y96Vp_r"
   },
   "outputs": [
    {
     "data": {
      "text/plain": [
       "{'1': 'The Lone Ranger (tt1210819)',\n",
       " '2': 'Pirates of the Caribbean: On Stranger Tides (tt1298650)',\n",
       " '3': 'Winnie the Pooh (tt1449283)',\n",
       " '4': 109.6585494970884,\n",
       " '5': 107.0,\n",
       " '6': 'Avatar (tt0499549)',\n",
       " '7': 'The Lone Ranger (tt1210819)',\n",
       " '8': 1478,\n",
       " '9': 'The Dark Knight (tt0468569)',\n",
       " '10': 'The Lone Ranger (tt1210819)',\n",
       " '11': 'Comedy',\n",
       " '12': 'Comedy',\n",
       " '13': 'Peter Jackson',\n",
       " '14': 'Rob Cohen',\n",
       " '15': 'Chris Hemsworth',\n",
       " '16': 'Chris Hemsworth',\n",
       " '17': 'Action|Crime|Drama|Thriller',\n",
       " '18': 'K-19: The Widowmaker (tt0267626)'}"
      ]
     },
     "execution_count": 100,
     "metadata": {},
     "output_type": "execute_result"
    }
   ],
   "source": [
    "data2 = data[ data.production_companies.str.contains(\"Paramount Pictures\")]\n",
    "movie= data2.loc[data2.profit.idxmin()][[ 'original_title','imdb_id']].values\n",
    "answers['18'] = f'{movie[0]} ({movie[1]})'\n",
    "answers"
   ]
  },
  {
   "cell_type": "markdown",
   "metadata": {
    "colab_type": "text",
    "id": "vS8Ur6ddVp_u"
   },
   "source": [
    "# 19. Какой год стал самым успешным по суммарным кассовым сборам?"
   ]
  },
  {
   "cell_type": "code",
   "execution_count": 103,
   "metadata": {
    "colab": {},
    "colab_type": "code",
    "id": "Dnbt4GdIVp_v"
   },
   "outputs": [
    {
     "data": {
      "text/plain": [
       "{'1': 'The Lone Ranger (tt1210819)',\n",
       " '2': 'Pirates of the Caribbean: On Stranger Tides (tt1298650)',\n",
       " '3': 'Winnie the Pooh (tt1449283)',\n",
       " '4': 109.6585494970884,\n",
       " '5': 107.0,\n",
       " '6': 'Avatar (tt0499549)',\n",
       " '7': 'The Lone Ranger (tt1210819)',\n",
       " '8': 1478,\n",
       " '9': 'The Dark Knight (tt0468569)',\n",
       " '10': 'The Lone Ranger (tt1210819)',\n",
       " '11': 'Comedy',\n",
       " '12': 'Comedy',\n",
       " '13': 'Peter Jackson',\n",
       " '14': 'Rob Cohen',\n",
       " '15': 'Chris Hemsworth',\n",
       " '16': 'Chris Hemsworth',\n",
       " '17': 'Action|Crime|Drama|Thriller',\n",
       " '18': 'K-19: The Widowmaker (tt0267626)',\n",
       " '19': 2015}"
      ]
     },
     "execution_count": 103,
     "metadata": {},
     "output_type": "execute_result"
    }
   ],
   "source": [
    "data2 = data.groupby('release_year')['revenue'].sum()\n",
    "answers['19'] = data2.nlargest(1).index[0]\n",
    "answers"
   ]
  },
  {
   "cell_type": "markdown",
   "metadata": {
    "colab_type": "text",
    "id": "JAzJh4QAVp_z"
   },
   "source": [
    "# 20. Какой самый прибыльный год для студии Warner Bros?"
   ]
  },
  {
   "cell_type": "code",
   "execution_count": 104,
   "metadata": {
    "colab": {},
    "colab_type": "code",
    "id": "wgVu02DEVp_0"
   },
   "outputs": [
    {
     "data": {
      "text/plain": [
       "{'1': 'The Lone Ranger (tt1210819)',\n",
       " '2': 'Pirates of the Caribbean: On Stranger Tides (tt1298650)',\n",
       " '3': 'Winnie the Pooh (tt1449283)',\n",
       " '4': 109.6585494970884,\n",
       " '5': 107.0,\n",
       " '6': 'Avatar (tt0499549)',\n",
       " '7': 'The Lone Ranger (tt1210819)',\n",
       " '8': 1478,\n",
       " '9': 'The Dark Knight (tt0468569)',\n",
       " '10': 'The Lone Ranger (tt1210819)',\n",
       " '11': 'Comedy',\n",
       " '12': 'Comedy',\n",
       " '13': 'Peter Jackson',\n",
       " '14': 'Rob Cohen',\n",
       " '15': 'Chris Hemsworth',\n",
       " '16': 'Chris Hemsworth',\n",
       " '17': 'Action|Crime|Drama|Thriller',\n",
       " '18': 'K-19: The Widowmaker (tt0267626)',\n",
       " '19': 2015,\n",
       " '20': 2014}"
      ]
     },
     "execution_count": 104,
     "metadata": {},
     "output_type": "execute_result"
    }
   ],
   "source": [
    "data2 = data[ data.production_companies.str.contains(\"Warner Bros\")]\n",
    "data2 = data2.groupby('release_year')['revenue'].sum()\n",
    "answers['20'] = data2.nlargest(1).index[0]\n",
    "answers"
   ]
  },
  {
   "cell_type": "markdown",
   "metadata": {
    "colab_type": "text",
    "id": "8Im1S2HRVp_4"
   },
   "source": [
    "# 21. В каком месяце за все годы суммарно вышло больше всего фильмов?"
   ]
  },
  {
   "cell_type": "code",
   "execution_count": 110,
   "metadata": {
    "colab": {},
    "colab_type": "code",
    "id": "lev6TH7gVp_4"
   },
   "outputs": [
    {
     "data": {
      "text/plain": [
       "{'1': 'The Lone Ranger (tt1210819)',\n",
       " '2': 'Pirates of the Caribbean: On Stranger Tides (tt1298650)',\n",
       " '3': 'Winnie the Pooh (tt1449283)',\n",
       " '4': 109.6585494970884,\n",
       " '5': 107.0,\n",
       " '6': 'Avatar (tt0499549)',\n",
       " '7': 'The Lone Ranger (tt1210819)',\n",
       " '8': 1478,\n",
       " '9': 'The Dark Knight (tt0468569)',\n",
       " '10': 'The Lone Ranger (tt1210819)',\n",
       " '11': 'Comedy',\n",
       " '12': 'Comedy',\n",
       " '13': 'Peter Jackson',\n",
       " '14': 'Rob Cohen',\n",
       " '15': 'Chris Hemsworth',\n",
       " '16': 'Chris Hemsworth',\n",
       " '17': 'Action|Crime|Drama|Thriller',\n",
       " '18': 'K-19: The Widowmaker (tt0267626)',\n",
       " '19': 2015,\n",
       " '20': 2014,\n",
       " '21': '9'}"
      ]
     },
     "execution_count": 110,
     "metadata": {},
     "output_type": "execute_result"
    }
   ],
   "source": [
    "db={}\n",
    "def acter(row):\n",
    "    \n",
    "    m = row[\"release_date\"].split('/')[0]\n",
    "    if m in db :\n",
    "        db[m] += 1\n",
    "    else:\n",
    "        db[m] = 1\n",
    "data.apply(acter, axis= 1)\n",
    "leader= [0,0]\n",
    "for k,value in db.items():\n",
    "    if value>leader[1]:\n",
    "        leader= [k,value]\n",
    "answers['21'] = leader[0]\n",
    "\n",
    "answers"
   ]
  },
  {
   "cell_type": "markdown",
   "metadata": {
    "colab_type": "text",
    "id": "uAJsZ_NeVp_7"
   },
   "source": [
    "# 22. Сколько суммарно вышло фильмов летом? (за июнь, июль, август)"
   ]
  },
  {
   "cell_type": "code",
   "execution_count": 114,
   "metadata": {
    "colab": {},
    "colab_type": "code",
    "id": "Aa-hEREoVp_8"
   },
   "outputs": [
    {
     "data": {
      "text/plain": [
       "{'1': 'The Lone Ranger (tt1210819)',\n",
       " '2': 'Pirates of the Caribbean: On Stranger Tides (tt1298650)',\n",
       " '3': 'Winnie the Pooh (tt1449283)',\n",
       " '4': 109.6585494970884,\n",
       " '5': 107.0,\n",
       " '6': 'Avatar (tt0499549)',\n",
       " '7': 'The Lone Ranger (tt1210819)',\n",
       " '8': 1478,\n",
       " '9': 'The Dark Knight (tt0468569)',\n",
       " '10': 'The Lone Ranger (tt1210819)',\n",
       " '11': 'Comedy',\n",
       " '12': 'Comedy',\n",
       " '13': 'Peter Jackson',\n",
       " '14': 'Rob Cohen',\n",
       " '15': 'Chris Hemsworth',\n",
       " '16': 'Chris Hemsworth',\n",
       " '17': 'Action|Crime|Drama|Thriller',\n",
       " '18': 'K-19: The Widowmaker (tt0267626)',\n",
       " '19': 2015,\n",
       " '20': 2014,\n",
       " '21': '9',\n",
       " '22': 450}"
      ]
     },
     "execution_count": 114,
     "metadata": {},
     "output_type": "execute_result"
    }
   ],
   "source": [
    "summer = 0\n",
    "def acter(row):\n",
    "    global summer\n",
    "    m = row[\"release_date\"].split('/')[0]\n",
    "    if int(m) in [6,7,8] :\n",
    "        summer += 1\n",
    "data.apply(acter, axis= 1)\n",
    "\n",
    "answers['22'] = summer\n",
    "\n",
    "answers"
   ]
  },
  {
   "cell_type": "markdown",
   "metadata": {
    "colab_type": "text",
    "id": "G94ppOY1VqAA"
   },
   "source": [
    "# 23. Для какого режиссера зима – самое продуктивное время года? "
   ]
  },
  {
   "cell_type": "code",
   "execution_count": 118,
   "metadata": {
    "colab": {},
    "colab_type": "code",
    "id": "RhNTsamuVqAB"
   },
   "outputs": [
    {
     "data": {
      "text/plain": [
       "{'1': 'The Lone Ranger (tt1210819)',\n",
       " '2': 'Pirates of the Caribbean: On Stranger Tides (tt1298650)',\n",
       " '3': 'Winnie the Pooh (tt1449283)',\n",
       " '4': 109.6585494970884,\n",
       " '5': 107.0,\n",
       " '6': 'Avatar (tt0499549)',\n",
       " '7': 'The Lone Ranger (tt1210819)',\n",
       " '8': 1478,\n",
       " '9': 'The Dark Knight (tt0468569)',\n",
       " '10': 'The Lone Ranger (tt1210819)',\n",
       " '11': 'Comedy',\n",
       " '12': 'Comedy',\n",
       " '13': 'Peter Jackson',\n",
       " '14': 'Rob Cohen',\n",
       " '15': 'Chris Hemsworth',\n",
       " '16': 'Chris Hemsworth',\n",
       " '17': 'Action|Crime|Drama|Thriller',\n",
       " '18': 'K-19: The Widowmaker (tt0267626)',\n",
       " '19': 2015,\n",
       " '20': 2014,\n",
       " '21': '9',\n",
       " '22': 450,\n",
       " '23': 'Peter Jackson'}"
      ]
     },
     "execution_count": 118,
     "metadata": {},
     "output_type": "execute_result"
    }
   ],
   "source": [
    "db = {}\n",
    "def acter(row):\n",
    "    m = row[\"release_date\"].split('/')[0]\n",
    "    if int(m) in [1,2,12] :\n",
    "        if row['director'] in db :\n",
    "            db [row['director']] += 1\n",
    "        else:\n",
    "            db[row['director']]= 1\n",
    "data.apply(acter, axis= 1)\n",
    "leader= [0,0]\n",
    "for k,value in db.items():\n",
    "    if value>leader[1]:\n",
    "        leader= [k,value]\n",
    "answers['23'] = leader[0]\n",
    "\n",
    "answers"
   ]
  },
  {
   "cell_type": "markdown",
   "metadata": {
    "colab_type": "text",
    "id": "RBo0JVjVVqAF"
   },
   "source": [
    "# 24. Какая студия дает самые длинные названия своим фильмам по количеству символов?"
   ]
  },
  {
   "cell_type": "code",
   "execution_count": 127,
   "metadata": {
    "colab": {},
    "colab_type": "code",
    "id": "QRGS8L0iVqAG"
   },
   "outputs": [
    {
     "data": {
      "text/plain": [
       "{'1': 'The Lone Ranger (tt1210819)',\n",
       " '2': 'Pirates of the Caribbean: On Stranger Tides (tt1298650)',\n",
       " '3': 'Winnie the Pooh (tt1449283)',\n",
       " '4': 109.6585494970884,\n",
       " '5': 107.0,\n",
       " '6': 'Avatar (tt0499549)',\n",
       " '7': 'The Lone Ranger (tt1210819)',\n",
       " '8': 1478,\n",
       " '9': 'The Dark Knight (tt0468569)',\n",
       " '10': 'The Lone Ranger (tt1210819)',\n",
       " '11': 'Comedy',\n",
       " '12': 'Comedy',\n",
       " '13': 'Peter Jackson',\n",
       " '14': 'Rob Cohen',\n",
       " '15': 'Chris Hemsworth',\n",
       " '16': 'Chris Hemsworth',\n",
       " '17': 'Action|Crime|Drama|Thriller',\n",
       " '18': 'K-19: The Widowmaker (tt0267626)',\n",
       " '19': 2015,\n",
       " '20': 2014,\n",
       " '21': '9',\n",
       " '22': 450,\n",
       " '23': 'Peter Jackson',\n",
       " '24': 'Four By Two Productions'}"
      ]
     },
     "execution_count": 127,
     "metadata": {},
     "output_type": "execute_result"
    }
   ],
   "source": [
    "db={}\n",
    "def acter(row):\n",
    "    \n",
    "    for i in row[\"production_companies\"].split(\"|\"):\n",
    "        if i in db:\n",
    "            db[i]+= [len(row[\"original_title\"])]\n",
    "        else:\n",
    "            db[i]= [len(row[\"original_title\"])]\n",
    "data.apply(acter, axis= 1)\n",
    "leader= [0,0]\n",
    "for k,value in db.items():\n",
    "    value = sum(value)/ len(value)\n",
    "    if value > leader[1]:\n",
    "        leader= [k,value]\n",
    "answers['24'] = leader[0]\n",
    "\n",
    "answers          "
   ]
  },
  {
   "cell_type": "markdown",
   "metadata": {
    "colab_type": "text",
    "id": "9G0hbvR7VqAK"
   },
   "source": [
    "# 25. Описание фильмов какой студии в среднем самые длинные по количеству слов?"
   ]
  },
  {
   "cell_type": "code",
   "execution_count": 128,
   "metadata": {
    "colab": {},
    "colab_type": "code",
    "id": "Ge2GsLNxVqAK"
   },
   "outputs": [
    {
     "data": {
      "text/plain": [
       "{'1': 'The Lone Ranger (tt1210819)',\n",
       " '2': 'Pirates of the Caribbean: On Stranger Tides (tt1298650)',\n",
       " '3': 'Winnie the Pooh (tt1449283)',\n",
       " '4': 109.6585494970884,\n",
       " '5': 107.0,\n",
       " '6': 'Avatar (tt0499549)',\n",
       " '7': 'The Lone Ranger (tt1210819)',\n",
       " '8': 1478,\n",
       " '9': 'The Dark Knight (tt0468569)',\n",
       " '10': 'The Lone Ranger (tt1210819)',\n",
       " '11': 'Comedy',\n",
       " '12': 'Comedy',\n",
       " '13': 'Peter Jackson',\n",
       " '14': 'Rob Cohen',\n",
       " '15': 'Chris Hemsworth',\n",
       " '16': 'Chris Hemsworth',\n",
       " '17': 'Action|Crime|Drama|Thriller',\n",
       " '18': 'K-19: The Widowmaker (tt0267626)',\n",
       " '19': 2015,\n",
       " '20': 2014,\n",
       " '21': '9',\n",
       " '22': 450,\n",
       " '23': 'Peter Jackson',\n",
       " '24': 'Four By Two Productions',\n",
       " '25': 'Four By Two Productions'}"
      ]
     },
     "execution_count": 128,
     "metadata": {},
     "output_type": "execute_result"
    }
   ],
   "source": [
    "db={}\n",
    "def acter(row):\n",
    "    \n",
    "    for i in row[\"production_companies\"].split(\"|\"):\n",
    "        if i in db:\n",
    "            db[i]+= [len(row[\"original_title\"].split())]\n",
    "        else:\n",
    "            db[i]= [len(row[\"original_title\"].split())]\n",
    "data.apply(acter, axis= 1)\n",
    "leader= [0,0]\n",
    "for k,value in db.items():\n",
    "    value = sum(value)/ len(value)\n",
    "    if value > leader[1]:\n",
    "        leader= [k,value]\n",
    "answers['25'] = leader[0]\n",
    "\n",
    "answers          "
   ]
  },
  {
   "cell_type": "markdown",
   "metadata": {
    "colab_type": "text",
    "id": "FJ1AFt90VqAP"
   },
   "source": [
    "# 26. Какие фильмы входят в 1 процент лучших по рейтингу? \n",
    "по vote_average"
   ]
  },
  {
   "cell_type": "code",
   "execution_count": 133,
   "metadata": {
    "colab": {},
    "colab_type": "code",
    "id": "8qmJVq4CVqAQ"
   },
   "outputs": [
    {
     "data": {
      "text/plain": [
       "{'1': 'The Lone Ranger (tt1210819)',\n",
       " '2': 'Pirates of the Caribbean: On Stranger Tides (tt1298650)',\n",
       " '3': 'Winnie the Pooh (tt1449283)',\n",
       " '4': 109.6585494970884,\n",
       " '5': 107.0,\n",
       " '6': 'Avatar (tt0499549)',\n",
       " '7': 'The Lone Ranger (tt1210819)',\n",
       " '8': 1478,\n",
       " '9': 'The Dark Knight (tt0468569)',\n",
       " '10': 'The Lone Ranger (tt1210819)',\n",
       " '11': 'Comedy',\n",
       " '12': 'Comedy',\n",
       " '13': 'Peter Jackson',\n",
       " '14': 'Rob Cohen',\n",
       " '15': 'Chris Hemsworth',\n",
       " '16': 'Chris Hemsworth',\n",
       " '17': 'Action|Crime|Drama|Thriller',\n",
       " '18': 'K-19: The Widowmaker (tt0267626)',\n",
       " '19': 2015,\n",
       " '20': 2014,\n",
       " '21': '9',\n",
       " '22': 450,\n",
       " '23': 'Peter Jackson',\n",
       " '24': 'Four By Two Productions',\n",
       " '25': 'Four By Two Productions',\n",
       " '26': ['Inside Out',\n",
       "  'Room',\n",
       "  'Interstellar',\n",
       "  'Guardians of the Galaxy',\n",
       "  'The Imitation Game',\n",
       "  'Gone Girl',\n",
       "  'The Grand Budapest Hotel',\n",
       "  'Inception',\n",
       "  'The Dark Knight',\n",
       "  'The Pianist',\n",
       "  'The Lord of the Rings: The Return of the King',\n",
       "  'The Wolf of Wall Street',\n",
       "  '12 Years a Slave',\n",
       "  'Memento']}"
      ]
     },
     "execution_count": 133,
     "metadata": {},
     "output_type": "execute_result"
    }
   ],
   "source": [
    "answers['26']= list(data[data.vote_average > data.vote_average.quantile(0.99)]['original_title'].values)\n",
    "answers"
   ]
  },
  {
   "cell_type": "markdown",
   "metadata": {
    "colab_type": "text",
    "id": "MdXsUXbCVqAV"
   },
   "source": [
    "# 27. Какие актеры чаще всего снимаются в одном фильме вместе?\n"
   ]
  },
  {
   "cell_type": "code",
   "execution_count": 143,
   "metadata": {},
   "outputs": [
    {
     "data": {
      "text/plain": [
       "{'1': 'The Lone Ranger (tt1210819)',\n",
       " '2': 'Pirates of the Caribbean: On Stranger Tides (tt1298650)',\n",
       " '3': 'Winnie the Pooh (tt1449283)',\n",
       " '4': 109.6585494970884,\n",
       " '5': 107.0,\n",
       " '6': 'Avatar (tt0499549)',\n",
       " '7': 'The Lone Ranger (tt1210819)',\n",
       " '8': 1478,\n",
       " '9': 'The Dark Knight (tt0468569)',\n",
       " '10': 'The Lone Ranger (tt1210819)',\n",
       " '11': 'Comedy',\n",
       " '12': 'Comedy',\n",
       " '13': 'Peter Jackson',\n",
       " '14': 'Rob Cohen',\n",
       " '15': 'Chris Hemsworth',\n",
       " '16': 'Chris Hemsworth',\n",
       " '17': 'Action|Crime|Drama|Thriller',\n",
       " '18': 'K-19: The Widowmaker (tt0267626)',\n",
       " '19': 2015,\n",
       " '20': 2014,\n",
       " '21': '9',\n",
       " '22': 450,\n",
       " '23': 'Peter Jackson',\n",
       " '24': 'Four By Two Productions',\n",
       " '25': 'Four By Two Productions',\n",
       " '26': ['Inside Out',\n",
       "  'Room',\n",
       "  'Interstellar',\n",
       "  'Guardians of the Galaxy',\n",
       "  'The Imitation Game',\n",
       "  'Gone Girl',\n",
       "  'The Grand Budapest Hotel',\n",
       "  'Inception',\n",
       "  'The Dark Knight',\n",
       "  'The Pianist',\n",
       "  'The Lord of the Rings: The Return of the King',\n",
       "  'The Wolf of Wall Street',\n",
       "  '12 Years a Slave',\n",
       "  'Memento'],\n",
       " '27': 'Daniel Radcliffe, Emma Watson'}"
      ]
     },
     "execution_count": 143,
     "metadata": {},
     "output_type": "execute_result"
    }
   ],
   "source": [
    "db={}\n",
    "def nn(row):\n",
    "    cast= sorted(row['cast'].split('|'))\n",
    "    for i in range(len(cast) - 1) :\n",
    "        for g in range(i+1, len(cast)):\n",
    "            pair = cast[i] + ', ' +cast[g]\n",
    "            if pair in db:\n",
    "                db[pair] += 1\n",
    "            else:\n",
    "                db[pair] = 1 \n",
    "data.apply(nn, axis= 1)\n",
    "leader= [0,0]\n",
    "for k,value in db.items():\n",
    "    if value>leader[1]:\n",
    "        leader= [k,value]\n",
    "answers['27'] = leader[0]\n",
    "answers"
   ]
  },
  {
   "cell_type": "markdown",
   "metadata": {
    "colab_type": "text",
    "id": "4ymnxEVoVqAW"
   },
   "source": [
    "ВАРИАНТ 2"
   ]
  },
  {
   "cell_type": "markdown",
   "metadata": {
    "colab_type": "text",
    "id": "U0nONFnGVqAX"
   },
   "source": [
    "# Submission"
   ]
  },
  {
   "cell_type": "code",
   "execution_count": 144,
   "metadata": {
    "colab": {},
    "colab_type": "code",
    "id": "IfcaRO9-VqAX",
    "outputId": "0f132912-32bb-4196-c98c-abfbc4ad5a5f"
   },
   "outputs": [
    {
     "data": {
      "text/plain": [
       "{'1': 'The Lone Ranger (tt1210819)',\n",
       " '2': 'Pirates of the Caribbean: On Stranger Tides (tt1298650)',\n",
       " '3': 'Winnie the Pooh (tt1449283)',\n",
       " '4': 109.6585494970884,\n",
       " '5': 107.0,\n",
       " '6': 'Avatar (tt0499549)',\n",
       " '7': 'The Lone Ranger (tt1210819)',\n",
       " '8': 1478,\n",
       " '9': 'The Dark Knight (tt0468569)',\n",
       " '10': 'The Lone Ranger (tt1210819)',\n",
       " '11': 'Comedy',\n",
       " '12': 'Comedy',\n",
       " '13': 'Peter Jackson',\n",
       " '14': 'Rob Cohen',\n",
       " '15': 'Chris Hemsworth',\n",
       " '16': 'Chris Hemsworth',\n",
       " '17': 'Action|Crime|Drama|Thriller',\n",
       " '18': 'K-19: The Widowmaker (tt0267626)',\n",
       " '19': 2015,\n",
       " '20': 2014,\n",
       " '21': '9',\n",
       " '22': 450,\n",
       " '23': 'Peter Jackson',\n",
       " '24': 'Four By Two Productions',\n",
       " '25': 'Four By Two Productions',\n",
       " '26': ['Inside Out',\n",
       "  'Room',\n",
       "  'Interstellar',\n",
       "  'Guardians of the Galaxy',\n",
       "  'The Imitation Game',\n",
       "  'Gone Girl',\n",
       "  'The Grand Budapest Hotel',\n",
       "  'Inception',\n",
       "  'The Dark Knight',\n",
       "  'The Pianist',\n",
       "  'The Lord of the Rings: The Return of the King',\n",
       "  'The Wolf of Wall Street',\n",
       "  '12 Years a Slave',\n",
       "  'Memento'],\n",
       " '27': 'Daniel Radcliffe, Emma Watson'}"
      ]
     },
     "execution_count": 144,
     "metadata": {},
     "output_type": "execute_result"
    }
   ],
   "source": [
    "# в конце можно посмотреть свои ответы к каждому вопросу\n",
    "answers"
   ]
  },
  {
   "cell_type": "code",
   "execution_count": 145,
   "metadata": {
    "colab": {},
    "colab_type": "code",
    "id": "SiRmHPl8VqAd"
   },
   "outputs": [
    {
     "data": {
      "text/plain": [
       "27"
      ]
     },
     "execution_count": 145,
     "metadata": {},
     "output_type": "execute_result"
    }
   ],
   "source": [
    "# и убедиться что ни чего не пропустил)\n",
    "len(answers)"
   ]
  },
  {
   "cell_type": "code",
   "execution_count": null,
   "metadata": {
    "colab": {},
    "colab_type": "code",
    "id": "uCfuTkRbVqAg"
   },
   "outputs": [],
   "source": [
    "data"
   ]
  },
  {
   "cell_type": "code",
   "execution_count": null,
   "metadata": {
    "colab": {},
    "colab_type": "code",
    "id": "Vwx3NrkSVqAl"
   },
   "outputs": [],
   "source": []
  }
 ],
 "metadata": {
  "colab": {
   "name": "Copy of [SF-DST] Movies IMBD v4.1 TEMPLATE.ipynb",
   "provenance": []
  },
  "kernelspec": {
   "display_name": "Python 3",
   "language": "python",
   "name": "python3"
  },
  "language_info": {
   "codemirror_mode": {
    "name": "ipython",
    "version": 3
   },
   "file_extension": ".py",
   "mimetype": "text/x-python",
   "name": "python",
   "nbconvert_exporter": "python",
   "pygments_lexer": "ipython3",
   "version": "3.8.3"
  }
 },
 "nbformat": 4,
 "nbformat_minor": 1
}
